{
 "cells": [
  {
   "cell_type": "code",
   "execution_count": 49,
   "id": "1743cd14",
   "metadata": {},
   "outputs": [],
   "source": [
    "import pandas as pd\n",
    "import matplotlib.pyplot as plt\n",
    "from pandas_datareader import data"
   ]
  },
  {
   "cell_type": "code",
   "execution_count": 50,
   "id": "a7d75db5",
   "metadata": {},
   "outputs": [],
   "source": [
    "start_date = '2001-01-01'\n",
    "end_date = '2018-01-01'\n",
    "SRC_DATA_FILENAME='goog_data_large.pkl'"
   ]
  },
  {
   "cell_type": "code",
   "execution_count": 51,
   "id": "7086a0b0",
   "metadata": {},
   "outputs": [
    {
     "name": "stdout",
     "output_type": "stream",
     "text": [
      "File data found...reading GOOG data\n"
     ]
    }
   ],
   "source": [
    "try:\n",
    "    goog_data = pd.read_pickle(SRC_DATA_FILENAME)\n",
    "    print('File data found...reading GOOG data')\n",
    "except FileNotFoundError:     \n",
    "    print('File not found...downloading the GOOG data')\n",
    "    goog_data = data.DataReader('GOOG', 'yahoo', start_date,end_date)\n",
    "    goog_data.to_pickle(SRC_DATA_FILENAME)"
   ]
  },
  {
   "cell_type": "code",
   "execution_count": 52,
   "id": "5d9a2d7e",
   "metadata": {},
   "outputs": [],
   "source": [
    "goog_monthly_return = goog_data['Adj Close'].pct_change().groupby(\n",
    "    [goog_data['Adj Close'].index.year,\n",
    "     goog_data['Adj Close'].index.month]).mean()\n"
   ]
  },
  {
   "cell_type": "code",
   "execution_count": 56,
   "id": "9732c45a",
   "metadata": {},
   "outputs": [],
   "source": [
    "t = []"
   ]
  },
  {
   "cell_type": "code",
   "execution_count": 62,
   "id": "e15005e3",
   "metadata": {},
   "outputs": [],
   "source": [
    "monthly_return_list = []"
   ]
  },
  {
   "cell_type": "code",
   "execution_count": 63,
   "id": "27752ce5",
   "metadata": {},
   "outputs": [],
   "source": [
    "for i in range(len(goog_monthly_return)):\n",
    "    temp = {'month':goog_monthly_return.index[i][1],'monthly_return': goog_monthly_return[goog_monthly_return.index[i]]}\n",
    "    monthly_return_list.append(temp)"
   ]
  },
  {
   "cell_type": "code",
   "execution_count": 64,
   "id": "a498271b",
   "metadata": {},
   "outputs": [
    {
     "data": {
      "text/plain": [
       "[{'month': 8, 'monthly_return': 0.0031372241042351146},\n",
       " {'month': 9, 'monthly_return': 0.011525105925900978},\n",
       " {'month': 10, 'monthly_return': 0.019398660764063894},\n",
       " {'month': 11, 'monthly_return': -0.0015536560743837251},\n",
       " {'month': 12, 'monthly_return': 0.002801652212515125},\n",
       " {'month': 1, 'monthly_return': 0.001142323107347687},\n",
       " {'month': 2, 'monthly_return': -0.0017196511082547827},\n",
       " {'month': 3, 'monthly_return': -0.0017684136975088729},\n",
       " {'month': 4, 'monthly_return': 0.009677071433209611},\n",
       " {'month': 5, 'monthly_return': 0.011206862113437212},\n",
       " {'month': 6, 'monthly_return': 0.0029135126861058306},\n",
       " {'month': 7, 'monthly_return': -0.0009693433190142376},\n",
       " {'month': 8, 'monthly_return': -0.000176465321519806},\n",
       " {'month': 9, 'monthly_return': 0.004939074564158393},\n",
       " {'month': 10, 'monthly_return': 0.008182497896524529},\n",
       " {'month': 11, 'monthly_return': 0.0041932602168133475},\n",
       " {'month': 12, 'monthly_return': 0.0012390081910123823},\n",
       " {'month': 1, 'monthly_return': 0.0026428421866830252},\n",
       " {'month': 2, 'monthly_return': -0.008644013525635211},\n",
       " {'month': 3, 'monthly_return': 0.0034943766607877743},\n",
       " {'month': 4, 'monthly_return': 0.003834584369850443},\n",
       " {'month': 5, 'monthly_return': -0.005136427688717082},\n",
       " {'month': 6, 'monthly_return': 0.005618553954418187},\n",
       " {'month': 7, 'monthly_return': -0.00398718658597636},\n",
       " {'month': 8, 'monthly_return': -0.0008152191767355584},\n",
       " {'month': 9, 'monthly_return': 0.0031109747313636136},\n",
       " {'month': 10, 'monthly_return': 0.00799443504071514},\n",
       " {'month': 11, 'monthly_return': 0.0009324330980259786},\n",
       " {'month': 12, 'monthly_return': -0.0024987898056704817},\n",
       " {'month': 1, 'monthly_return': 0.004409654188003825},\n",
       " {'month': 2, 'monthly_return': -0.005628375842169406},\n",
       " {'month': 3, 'monthly_return': 0.000963385603647595},\n",
       " {'month': 4, 'monthly_return': 0.001482072997663103},\n",
       " {'month': 5, 'monthly_return': 0.0025605881266422322},\n",
       " {'month': 6, 'monthly_return': 0.0023639954099517494},\n",
       " {'month': 7, 'monthly_return': -0.0010725037874801814},\n",
       " {'month': 8, 'monthly_return': 0.000520301516389309},\n",
       " {'month': 9, 'monthly_return': 0.005120658154960568},\n",
       " {'month': 10, 'monthly_return': 0.009735818996970248},\n",
       " {'month': 11, 'monthly_return': -0.0005900989166851133},\n",
       " {'month': 12, 'monthly_return': -3.2485478206223385e-06},\n",
       " {'month': 1, 'monthly_return': -0.00931164686042559},\n",
       " {'month': 2, 'monthly_return': -0.008567091727039261},\n",
       " {'month': 3, 'monthly_return': -0.0029010722471027595},\n",
       " {'month': 4, 'monthly_return': 0.013074805339335738},\n",
       " {'month': 5, 'monthly_return': 0.0011277712205838657},\n",
       " {'month': 6, 'monthly_return': -0.004923600450533237},\n",
       " {'month': 7, 'monthly_return': -0.004352036994540686},\n",
       " {'month': 8, 'monthly_return': -0.0009260442443142106},\n",
       " {'month': 9, 'monthly_return': -0.0060988003824895606},\n",
       " {'month': 10, 'monthly_return': -0.003371574715048883},\n",
       " {'month': 11, 'monthly_return': -0.00962975621259719},\n",
       " {'month': 12, 'monthly_return': 0.0028147331164938435},\n",
       " {'month': 1, 'monthly_return': 0.005343542930518541},\n",
       " {'month': 2, 'monthly_return': 0.00032878368694862285},\n",
       " {'month': 3, 'monthly_return': 0.001758428855948094},\n",
       " {'month': 4, 'monthly_return': 0.006311695806979741},\n",
       " {'month': 5, 'monthly_return': 0.0027200546314509466},\n",
       " {'month': 6, 'monthly_return': 0.0005612669420547521},\n",
       " {'month': 7, 'monthly_return': 0.002405238246539694},\n",
       " {'month': 8, 'monthly_return': 0.0020481588752114177},\n",
       " {'month': 9, 'monthly_return': 0.003443747388480364},\n",
       " {'month': 10, 'monthly_return': 0.0036816552500368556},\n",
       " {'month': 11, 'monthly_return': 0.004233842918631642},\n",
       " {'month': 12, 'monthly_return': 0.00281832515584189},\n",
       " {'month': 1, 'monthly_return': -0.008088988571868069},\n",
       " {'month': 2, 'monthly_return': -0.0002608076630578049},\n",
       " {'month': 3, 'monthly_return': 0.003283362075601233},\n",
       " {'month': 4, 'monthly_return': -0.0034173298323521375},\n",
       " {'month': 5, 'monthly_return': -0.0037102378043194885},\n",
       " {'month': 6, 'monthly_return': -0.0038139652837380685},\n",
       " {'month': 7, 'monthly_return': 0.004333603053167154},\n",
       " {'month': 8, 'monthly_return': -0.003270944687532004},\n",
       " {'month': 9, 'monthly_return': 0.0075071415628542955},\n",
       " {'month': 10, 'monthly_return': 0.0076977401986008265},\n",
       " {'month': 11, 'monthly_return': -0.0046109360763621305},\n",
       " {'month': 12, 'monthly_return': 0.0030546692907107934},\n",
       " {'month': 1, 'monthly_return': 0.000609949189415937},\n",
       " {'month': 2, 'monthly_return': 0.001177917991252319},\n",
       " {'month': 3, 'monthly_return': -0.00185511834297674},\n",
       " {'month': 4, 'monthly_return': -0.0035373218146718677},\n",
       " {'month': 5, 'monthly_return': -0.001286732819996689},\n",
       " {'month': 6, 'monthly_return': -0.0019072436879964858},\n",
       " {'month': 7, 'monthly_return': 0.009300963786948929},\n",
       " {'month': 8, 'monthly_return': -0.004369959980240874},\n",
       " {'month': 9, 'monthly_return': -0.0022262246443192505},\n",
       " {'month': 10, 'monthly_return': 0.006916926306226206},\n",
       " {'month': 11, 'monthly_return': 0.0007041289393827961},\n",
       " {'month': 12, 'monthly_return': 0.0036070886652777184},\n",
       " {'month': 1, 'monthly_return': -0.005076135025364403},\n",
       " {'month': 2, 'monthly_return': 0.0032284330543070117},\n",
       " {'month': 3, 'monthly_return': 0.0017081745076086184},\n",
       " {'month': 4, 'monthly_return': -0.0028078345936058844},\n",
       " {'month': 5, 'monthly_return': -0.001710848845127006},\n",
       " {'month': 6, 'monthly_return': 3.18739258995393e-05},\n",
       " {'month': 7, 'monthly_return': 0.0042523314493746415},\n",
       " {'month': 8, 'monthly_return': 0.0034931126867685756},\n",
       " {'month': 9, 'monthly_return': 0.005143314375067175},\n",
       " {'month': 10, 'monthly_return': -0.00472904512422617},\n",
       " {'month': 11, 'monthly_return': 0.0013362786986403443},\n",
       " {'month': 12, 'monthly_return': 0.0006814760599508363},\n",
       " {'month': 1, 'monthly_return': 0.0032660743012239263},\n",
       " {'month': 2, 'monthly_return': 0.0031450473810859555},\n",
       " {'month': 3, 'monthly_return': -0.00040218920280303273},\n",
       " {'month': 4, 'monthly_return': 0.0018160284560009843},\n",
       " {'month': 5, 'monthly_return': 0.0025830906662465125},\n",
       " {'month': 6, 'monthly_return': 0.0005695111807103526},\n",
       " {'month': 7, 'monthly_return': 0.00041777166050972883},\n",
       " {'month': 8, 'monthly_return': -0.0021055086740930425},\n",
       " {'month': 9, 'monthly_return': 0.001724046905766563},\n",
       " {'month': 10, 'monthly_return': 0.007505970571768716},\n",
       " {'month': 11, 'monthly_return': 0.0014205844663895905},\n",
       " {'month': 12, 'monthly_return': 0.0027021451541775327},\n",
       " {'month': 1, 'monthly_return': 0.002629997318240905},\n",
       " {'month': 2, 'monthly_return': 0.001594432474584608},\n",
       " {'month': 3, 'monthly_return': -0.004047660890847061},\n",
       " {'month': 4, 'monthly_return': -0.0024237003944613178},\n",
       " {'month': 5, 'monthly_return': 0.0029931928200046956},\n",
       " {'month': 6, 'monthly_return': 0.0013492807774541623},\n",
       " {'month': 7, 'monthly_return': -0.00020780341261294013},\n",
       " {'month': 8, 'monthly_return': 3.887947832308709e-05},\n",
       " {'month': 9, 'monthly_return': 0.0005244536141614189},\n",
       " {'month': 10, 'monthly_return': -0.0012784175757440566},\n",
       " {'month': 11, 'monthly_return': -0.0016272328837268334},\n",
       " {'month': 12, 'monthly_return': -0.0012175629026554052},\n",
       " {'month': 1, 'monthly_return': 0.0009292426827113675},\n",
       " {'month': 2, 'monthly_return': 0.002358228705795519},\n",
       " {'month': 3, 'monthly_return': -0.0007802319824839325},\n",
       " {'month': 4, 'monthly_return': -0.0007199038803612236},\n",
       " {'month': 5, 'monthly_return': -0.0004345937875942063},\n",
       " {'month': 6, 'monthly_return': -0.0009672215201628097},\n",
       " {'month': 7, 'monthly_return': 0.00901940474978777},\n",
       " {'month': 8, 'monthly_return': -0.00021937468318728159},\n",
       " {'month': 9, 'monthly_return': -0.0006155613336841596},\n",
       " {'month': 10, 'monthly_return': 0.007267750245768135},\n",
       " {'month': 11, 'monthly_return': 0.002250439911704044},\n",
       " {'month': 12, 'monthly_return': 0.0010782102620220239},\n",
       " {'month': 1, 'monthly_return': -0.0009102984888237295},\n",
       " {'month': 2, 'monthly_return': -0.002973493068544075},\n",
       " {'month': 3, 'monthly_return': 0.0030377442551133785},\n",
       " {'month': 4, 'monthly_return': -0.0033229587126536136},\n",
       " {'month': 5, 'monthly_return': 0.00289684212617677},\n",
       " {'month': 6, 'monthly_return': -0.0026960342879890757},\n",
       " {'month': 7, 'monthly_return': 0.005307879592801596},\n",
       " {'month': 8, 'monthly_return': -9.011086775404085e-05},\n",
       " {'month': 9, 'monthly_return': 0.0006756290849557702},\n",
       " {'month': 10, 'monthly_return': 0.00047875784117093874},\n",
       " {'month': 11, 'monthly_return': -0.001524726324455666},\n",
       " {'month': 12, 'monthly_return': 0.0008940522185639788},\n",
       " {'month': 1, 'monthly_return': 0.0016450602856304618},\n",
       " {'month': 2, 'monthly_return': 0.0017249573831529487},\n",
       " {'month': 3, 'monthly_return': 0.00036179559306611124},\n",
       " {'month': 4, 'monthly_return': 0.00470078179080554},\n",
       " {'month': 5, 'monthly_return': 0.0029023463119082216},\n",
       " {'month': 6, 'monthly_return': -0.0026324735213379765},\n",
       " {'month': 7, 'monthly_return': 0.0012490046681433108},\n",
       " {'month': 8, 'monthly_return': 0.0004457384524983044},\n",
       " {'month': 9, 'monthly_return': 0.0010749954290419973},\n",
       " {'month': 10, 'monthly_return': 0.0027300870049232055},\n",
       " {'month': 11, 'monthly_return': 0.0002646922127057316},\n",
       " {'month': 12, 'monthly_return': 0.001239214714622422}]"
      ]
     },
     "execution_count": 64,
     "metadata": {},
     "output_type": "execute_result"
    }
   ],
   "source": [
    "monthly_return_list"
   ]
  },
  {
   "cell_type": "code",
   "execution_count": 66,
   "id": "3439a10f",
   "metadata": {},
   "outputs": [],
   "source": [
    "monthly_return = pd.DataFrame(monthly_return_list,columns=['month','monthly_return'])"
   ]
  },
  {
   "cell_type": "code",
   "execution_count": 67,
   "id": "0aad832a",
   "metadata": {},
   "outputs": [
    {
     "data": {
      "text/html": [
       "<div>\n",
       "<style scoped>\n",
       "    .dataframe tbody tr th:only-of-type {\n",
       "        vertical-align: middle;\n",
       "    }\n",
       "\n",
       "    .dataframe tbody tr th {\n",
       "        vertical-align: top;\n",
       "    }\n",
       "\n",
       "    .dataframe thead th {\n",
       "        text-align: right;\n",
       "    }\n",
       "</style>\n",
       "<table border=\"1\" class=\"dataframe\">\n",
       "  <thead>\n",
       "    <tr style=\"text-align: right;\">\n",
       "      <th></th>\n",
       "      <th>month</th>\n",
       "      <th>monthly_return</th>\n",
       "    </tr>\n",
       "  </thead>\n",
       "  <tbody>\n",
       "    <tr>\n",
       "      <th>0</th>\n",
       "      <td>8</td>\n",
       "      <td>0.003137</td>\n",
       "    </tr>\n",
       "    <tr>\n",
       "      <th>1</th>\n",
       "      <td>9</td>\n",
       "      <td>0.011525</td>\n",
       "    </tr>\n",
       "    <tr>\n",
       "      <th>2</th>\n",
       "      <td>10</td>\n",
       "      <td>0.019399</td>\n",
       "    </tr>\n",
       "    <tr>\n",
       "      <th>3</th>\n",
       "      <td>11</td>\n",
       "      <td>-0.001554</td>\n",
       "    </tr>\n",
       "    <tr>\n",
       "      <th>4</th>\n",
       "      <td>12</td>\n",
       "      <td>0.002802</td>\n",
       "    </tr>\n",
       "    <tr>\n",
       "      <th>...</th>\n",
       "      <td>...</td>\n",
       "      <td>...</td>\n",
       "    </tr>\n",
       "    <tr>\n",
       "      <th>156</th>\n",
       "      <td>8</td>\n",
       "      <td>0.000446</td>\n",
       "    </tr>\n",
       "    <tr>\n",
       "      <th>157</th>\n",
       "      <td>9</td>\n",
       "      <td>0.001075</td>\n",
       "    </tr>\n",
       "    <tr>\n",
       "      <th>158</th>\n",
       "      <td>10</td>\n",
       "      <td>0.002730</td>\n",
       "    </tr>\n",
       "    <tr>\n",
       "      <th>159</th>\n",
       "      <td>11</td>\n",
       "      <td>0.000265</td>\n",
       "    </tr>\n",
       "    <tr>\n",
       "      <th>160</th>\n",
       "      <td>12</td>\n",
       "      <td>0.001239</td>\n",
       "    </tr>\n",
       "  </tbody>\n",
       "</table>\n",
       "<p>161 rows × 2 columns</p>\n",
       "</div>"
      ],
      "text/plain": [
       "     month  monthly_return\n",
       "0        8        0.003137\n",
       "1        9        0.011525\n",
       "2       10        0.019399\n",
       "3       11       -0.001554\n",
       "4       12        0.002802\n",
       "..     ...             ...\n",
       "156      8        0.000446\n",
       "157      9        0.001075\n",
       "158     10        0.002730\n",
       "159     11        0.000265\n",
       "160     12        0.001239\n",
       "\n",
       "[161 rows x 2 columns]"
      ]
     },
     "execution_count": 67,
     "metadata": {},
     "output_type": "execute_result"
    }
   ],
   "source": [
    "monthly_return"
   ]
  },
  {
   "cell_type": "code",
   "execution_count": 71,
   "id": "47eb2bc1",
   "metadata": {},
   "outputs": [
    {
     "data": {
      "image/png": "[encoded data removed]",
      "text/plain": [
       "<Figure size 432x288 with 1 Axes>"
      ]
     },
     "metadata": {
      "needs_background": "light"
     },
     "output_type": "display_data"
    }
   ],
   "source": [
    "monthly_return.boxplot(column='monthly_return',by='month')\n",
    "ax = plt.gca()\n",
    "labels = [item.get_text() for item in ax.get_xticklabels()]\n",
    "labels=['Jan','Feb','Mar','Apr','May','Jun','Jul','Aug','Sep','Oct','Nov','Dec']\n",
    "ax.set_xticklabels(labels)\n",
    "ax.set_ylabel('GOOG return')\n",
    "plt.tick_params(axis='both', which='major', labelsize=7)\n",
    "plt.title(\"GOOG Monthly return 2001-2018\")\n",
    "plt.suptitle(\"\")\n",
    "plt.show()"
   ]
  },
  {
   "cell_type": "code",
   "execution_count": null,
   "id": "2132f4c8",
   "metadata": {},
   "outputs": [],
   "source": []
  }
 ],
 "metadata": {
  "kernelspec": {
   "display_name": "Python 3",
   "language": "python",
   "name": "python3"
  },
  "language_info": {
   "codemirror_mode": {
    "name": "ipython",
    "version": 3
   },
   "file_extension": ".py",
   "mimetype": "text/x-python",
   "name": "python",
   "nbconvert_exporter": "python",
   "pygments_lexer": "ipython3",
   "version": "3.9.5"
  }
 },
 "nbformat": 4,
 "nbformat_minor": 5
}
