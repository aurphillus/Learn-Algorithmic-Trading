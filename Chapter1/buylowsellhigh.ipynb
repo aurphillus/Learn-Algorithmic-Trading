{
 "cells": [
  {
   "cell_type": "markdown",
   "id": "830344a6",
   "metadata": {},
   "source": [
    "# Buy when the price is low, and sell when the price is high"
   ]
  },
  {
   "cell_type": "code",
   "execution_count": 15,
   "id": "15de8834",
   "metadata": {},
   "outputs": [],
   "source": [
    "# Imports of Library\n",
    "\n",
    "from pandas_datareader import data\n",
    "import pandas as pd\n",
    "import numpy as np"
   ]
  },
  {
   "cell_type": "markdown",
   "id": "30e05786",
   "metadata": {},
   "source": [
    "DataReader takes four arguments:\n",
    "1. The first one is the symbol you would like to use for analysis.\n",
    "2. The second specifies the source for retrieving the data, and then you will specify the range of days to get the data.\n",
    "3. The third specifies the starting data from which to fetch historical data.\n",
    "4. The fourth and final argument specifies the end data for the historical data series"
   ]
  },
  {
   "cell_type": "code",
   "execution_count": 4,
   "id": "424286f5",
   "metadata": {},
   "outputs": [
    {
     "data": {
      "text/html": [
       "<div>\n",
       "<style scoped>\n",
       "    .dataframe tbody tr th:only-of-type {\n",
       "        vertical-align: middle;\n",
       "    }\n",
       "\n",
       "    .dataframe tbody tr th {\n",
       "        vertical-align: top;\n",
       "    }\n",
       "\n",
       "    .dataframe thead th {\n",
       "        text-align: right;\n",
       "    }\n",
       "</style>\n",
       "<table border=\"1\" class=\"dataframe\">\n",
       "  <thead>\n",
       "    <tr style=\"text-align: right;\">\n",
       "      <th></th>\n",
       "      <th>High</th>\n",
       "      <th>Low</th>\n",
       "      <th>Open</th>\n",
       "      <th>Close</th>\n",
       "      <th>Volume</th>\n",
       "      <th>Adj Close</th>\n",
       "    </tr>\n",
       "    <tr>\n",
       "      <th>Date</th>\n",
       "      <th></th>\n",
       "      <th></th>\n",
       "      <th></th>\n",
       "      <th></th>\n",
       "      <th></th>\n",
       "      <th></th>\n",
       "    </tr>\n",
       "  </thead>\n",
       "  <tbody>\n",
       "    <tr>\n",
       "      <th>2013-12-31</th>\n",
       "      <td>558.406982</td>\n",
       "      <td>551.064453</td>\n",
       "      <td>554.043335</td>\n",
       "      <td>558.262512</td>\n",
       "      <td>2725979.0</td>\n",
       "      <td>558.262512</td>\n",
       "    </tr>\n",
       "    <tr>\n",
       "      <th>2014-01-02</th>\n",
       "      <td>556.788025</td>\n",
       "      <td>552.060730</td>\n",
       "      <td>555.647278</td>\n",
       "      <td>554.481689</td>\n",
       "      <td>3656454.0</td>\n",
       "      <td>554.481689</td>\n",
       "    </tr>\n",
       "    <tr>\n",
       "      <th>2014-01-03</th>\n",
       "      <td>556.379578</td>\n",
       "      <td>550.401978</td>\n",
       "      <td>555.418152</td>\n",
       "      <td>550.436829</td>\n",
       "      <td>3345894.0</td>\n",
       "      <td>550.436829</td>\n",
       "    </tr>\n",
       "    <tr>\n",
       "      <th>2014-01-06</th>\n",
       "      <td>557.340942</td>\n",
       "      <td>551.154114</td>\n",
       "      <td>554.426880</td>\n",
       "      <td>556.573853</td>\n",
       "      <td>3551864.0</td>\n",
       "      <td>556.573853</td>\n",
       "    </tr>\n",
       "    <tr>\n",
       "      <th>2014-01-07</th>\n",
       "      <td>567.717041</td>\n",
       "      <td>558.486633</td>\n",
       "      <td>560.399475</td>\n",
       "      <td>567.303589</td>\n",
       "      <td>5124336.0</td>\n",
       "      <td>567.303589</td>\n",
       "    </tr>\n",
       "  </tbody>\n",
       "</table>\n",
       "</div>"
      ],
      "text/plain": [
       "                  High         Low        Open       Close     Volume  \\\n",
       "Date                                                                    \n",
       "2013-12-31  558.406982  551.064453  554.043335  558.262512  2725979.0   \n",
       "2014-01-02  556.788025  552.060730  555.647278  554.481689  3656454.0   \n",
       "2014-01-03  556.379578  550.401978  555.418152  550.436829  3345894.0   \n",
       "2014-01-06  557.340942  551.154114  554.426880  556.573853  3551864.0   \n",
       "2014-01-07  567.717041  558.486633  560.399475  567.303589  5124336.0   \n",
       "\n",
       "             Adj Close  \n",
       "Date                    \n",
       "2013-12-31  558.262512  \n",
       "2014-01-02  554.481689  \n",
       "2014-01-03  550.436829  \n",
       "2014-01-06  556.573853  \n",
       "2014-01-07  567.303589  "
      ]
     },
     "execution_count": 4,
     "metadata": {},
     "output_type": "execute_result"
    }
   ],
   "source": [
    "# First Day\n",
    "start_date = '2014-01-01'\n",
    "\n",
    "# Last Day\n",
    "end_date = '2018-01-01'\n",
    "\n",
    "goog_data = data.DataReader('GOOG','yahoo',start_date,end_date)\n",
    "goog_data.head()"
   ]
  },
  {
   "cell_type": "markdown",
   "id": "0d71a767",
   "metadata": {},
   "source": [
    "There are six columns:\n",
    "1. **High:** The highest price of the stock on that trading day.\n",
    "2. **Low:** The lowest price of the stock on that trading day.\n",
    "3. **Close:** The price of the stock at closing time.\n",
    "4. **Open:** The price of the stock at the beginning of the trading day (closing price of the previous trading day).\n",
    "5. **Volume:** How many stocks were traded.\n",
    "6. **Adj Close:** The closing price of the stock that adjusts the price of the stock for corporate actions. This price takes into account the stock splits and dividends."
   ]
  },
  {
   "cell_type": "markdown",
   "id": "ac108817",
   "metadata": {},
   "source": [
    "## Strategy\n",
    "\n",
    "We will calculate the difference in the adjusted close between two consecutive days. If the value of the adjusted close is negative, this means the price on the previous day was higher than the price the following day, so we can buy since the price is lower now. If this value is positive, this means that we can sell because the price is higher."
   ]
  },
  {
   "cell_type": "code",
   "execution_count": 10,
   "id": "38dd7e68",
   "metadata": {},
   "outputs": [
    {
     "data": {
      "text/html": [
       "<div>\n",
       "<style scoped>\n",
       "    .dataframe tbody tr th:only-of-type {\n",
       "        vertical-align: middle;\n",
       "    }\n",
       "\n",
       "    .dataframe tbody tr th {\n",
       "        vertical-align: top;\n",
       "    }\n",
       "\n",
       "    .dataframe thead th {\n",
       "        text-align: right;\n",
       "    }\n",
       "</style>\n",
       "<table border=\"1\" class=\"dataframe\">\n",
       "  <thead>\n",
       "    <tr style=\"text-align: right;\">\n",
       "      <th></th>\n",
       "      <th>price</th>\n",
       "    </tr>\n",
       "    <tr>\n",
       "      <th>Date</th>\n",
       "      <th></th>\n",
       "    </tr>\n",
       "  </thead>\n",
       "  <tbody>\n",
       "    <tr>\n",
       "      <th>2013-12-31</th>\n",
       "      <td>558.262512</td>\n",
       "    </tr>\n",
       "    <tr>\n",
       "      <th>2014-01-02</th>\n",
       "      <td>554.481689</td>\n",
       "    </tr>\n",
       "    <tr>\n",
       "      <th>2014-01-03</th>\n",
       "      <td>550.436829</td>\n",
       "    </tr>\n",
       "    <tr>\n",
       "      <th>2014-01-06</th>\n",
       "      <td>556.573853</td>\n",
       "    </tr>\n",
       "    <tr>\n",
       "      <th>2014-01-07</th>\n",
       "      <td>567.303589</td>\n",
       "    </tr>\n",
       "  </tbody>\n",
       "</table>\n",
       "</div>"
      ],
      "text/plain": [
       "                 price\n",
       "Date                  \n",
       "2013-12-31  558.262512\n",
       "2014-01-02  554.481689\n",
       "2014-01-03  550.436829\n",
       "2014-01-06  556.573853\n",
       "2014-01-07  567.303589"
      ]
     },
     "execution_count": 10,
     "metadata": {},
     "output_type": "execute_result"
    }
   ],
   "source": [
    "goog_data_signal = pd.DataFrame(index=goog_data.index)\n",
    "goog_data_signal['price'] = goog_data['Adj Close']\n",
    "\n",
    "goog_data_signal.head()"
   ]
  },
  {
   "cell_type": "code",
   "execution_count": 13,
   "id": "ae674975",
   "metadata": {},
   "outputs": [
    {
     "data": {
      "text/html": [
       "<div>\n",
       "<style scoped>\n",
       "    .dataframe tbody tr th:only-of-type {\n",
       "        vertical-align: middle;\n",
       "    }\n",
       "\n",
       "    .dataframe tbody tr th {\n",
       "        vertical-align: top;\n",
       "    }\n",
       "\n",
       "    .dataframe thead th {\n",
       "        text-align: right;\n",
       "    }\n",
       "</style>\n",
       "<table border=\"1\" class=\"dataframe\">\n",
       "  <thead>\n",
       "    <tr style=\"text-align: right;\">\n",
       "      <th></th>\n",
       "      <th>price</th>\n",
       "      <th>daily_difference</th>\n",
       "    </tr>\n",
       "    <tr>\n",
       "      <th>Date</th>\n",
       "      <th></th>\n",
       "      <th></th>\n",
       "    </tr>\n",
       "  </thead>\n",
       "  <tbody>\n",
       "    <tr>\n",
       "      <th>2013-12-31</th>\n",
       "      <td>558.262512</td>\n",
       "      <td>NaN</td>\n",
       "    </tr>\n",
       "    <tr>\n",
       "      <th>2014-01-02</th>\n",
       "      <td>554.481689</td>\n",
       "      <td>-3.780823</td>\n",
       "    </tr>\n",
       "    <tr>\n",
       "      <th>2014-01-03</th>\n",
       "      <td>550.436829</td>\n",
       "      <td>-4.044861</td>\n",
       "    </tr>\n",
       "    <tr>\n",
       "      <th>2014-01-06</th>\n",
       "      <td>556.573853</td>\n",
       "      <td>6.137024</td>\n",
       "    </tr>\n",
       "    <tr>\n",
       "      <th>2014-01-07</th>\n",
       "      <td>567.303589</td>\n",
       "      <td>10.729736</td>\n",
       "    </tr>\n",
       "  </tbody>\n",
       "</table>\n",
       "</div>"
      ],
      "text/plain": [
       "                 price  daily_difference\n",
       "Date                                    \n",
       "2013-12-31  558.262512               NaN\n",
       "2014-01-02  554.481689         -3.780823\n",
       "2014-01-03  550.436829         -4.044861\n",
       "2014-01-06  556.573853          6.137024\n",
       "2014-01-07  567.303589         10.729736"
      ]
     },
     "execution_count": 13,
     "metadata": {},
     "output_type": "execute_result"
    }
   ],
   "source": [
    "goog_data_signal['daily_difference'] = goog_data_signal['price'].diff()\n",
    "goog_data_signal.head()"
   ]
  },
  {
   "cell_type": "markdown",
   "id": "76c17489",
   "metadata": {},
   "source": [
    "We will create the signal based on the values of the column, daily_difference. If the value is positive, we will give the value 1, otherwise, the value will remain 0"
   ]
  },
  {
   "cell_type": "code",
   "execution_count": 17,
   "id": "cabde0f2",
   "metadata": {},
   "outputs": [
    {
     "data": {
      "text/html": [
       "<div>\n",
       "<style scoped>\n",
       "    .dataframe tbody tr th:only-of-type {\n",
       "        vertical-align: middle;\n",
       "    }\n",
       "\n",
       "    .dataframe tbody tr th {\n",
       "        vertical-align: top;\n",
       "    }\n",
       "\n",
       "    .dataframe thead th {\n",
       "        text-align: right;\n",
       "    }\n",
       "</style>\n",
       "<table border=\"1\" class=\"dataframe\">\n",
       "  <thead>\n",
       "    <tr style=\"text-align: right;\">\n",
       "      <th></th>\n",
       "      <th>price</th>\n",
       "      <th>daily_difference</th>\n",
       "      <th>signal</th>\n",
       "    </tr>\n",
       "    <tr>\n",
       "      <th>Date</th>\n",
       "      <th></th>\n",
       "      <th></th>\n",
       "      <th></th>\n",
       "    </tr>\n",
       "  </thead>\n",
       "  <tbody>\n",
       "    <tr>\n",
       "      <th>2013-12-31</th>\n",
       "      <td>558.262512</td>\n",
       "      <td>NaN</td>\n",
       "      <td>0</td>\n",
       "    </tr>\n",
       "    <tr>\n",
       "      <th>2014-01-02</th>\n",
       "      <td>554.481689</td>\n",
       "      <td>-3.780823</td>\n",
       "      <td>0</td>\n",
       "    </tr>\n",
       "    <tr>\n",
       "      <th>2014-01-03</th>\n",
       "      <td>550.436829</td>\n",
       "      <td>-4.044861</td>\n",
       "      <td>0</td>\n",
       "    </tr>\n",
       "    <tr>\n",
       "      <th>2014-01-06</th>\n",
       "      <td>556.573853</td>\n",
       "      <td>6.137024</td>\n",
       "      <td>1</td>\n",
       "    </tr>\n",
       "    <tr>\n",
       "      <th>2014-01-07</th>\n",
       "      <td>567.303589</td>\n",
       "      <td>10.729736</td>\n",
       "      <td>1</td>\n",
       "    </tr>\n",
       "  </tbody>\n",
       "</table>\n",
       "</div>"
      ],
      "text/plain": [
       "                 price  daily_difference  signal\n",
       "Date                                            \n",
       "2013-12-31  558.262512               NaN       0\n",
       "2014-01-02  554.481689         -3.780823       0\n",
       "2014-01-03  550.436829         -4.044861       0\n",
       "2014-01-06  556.573853          6.137024       1\n",
       "2014-01-07  567.303589         10.729736       1"
      ]
     },
     "execution_count": 17,
     "metadata": {},
     "output_type": "execute_result"
    }
   ],
   "source": [
    "goog_data_signal['signal'] = 0\n",
    "goog_data_signal['signal'] = np.where(goog_data_signal['daily_difference'] > 0, 1, 0)\n",
    "\n",
    "goog_data_signal.head()"
   ]
  },
  {
   "cell_type": "markdown",
   "id": "7cf08f90",
   "metadata": {},
   "source": [
    "Since we don't want to constantly buy if the market keeps moving down, or constantly sell when the market is moving up, we will limit the number of orders by restricting ourselves to the number of positions on the market. The position is your inventory of stocks or assets that you have on the market. For instance, if you buy one Google share, this means you have a position of one share on the market. If you sell this share, you will not have any positions on the market."
   ]
  },
  {
   "cell_type": "markdown",
   "id": "2c6fde8b",
   "metadata": {},
   "source": [
    " "
   ]
  },
  {
   "cell_type": "markdown",
   "id": "c0029af3",
   "metadata": {},
   "source": [
    "To simplify our example and limit the position on the market, it will be impossible to buy or sell more than one time consecutively. Therefore, we will apply diff() to the column signal:"
   ]
  },
  {
   "cell_type": "code",
   "execution_count": 19,
   "id": "d9aac2b3",
   "metadata": {},
   "outputs": [
    {
     "data": {
      "text/html": [
       "<div>\n",
       "<style scoped>\n",
       "    .dataframe tbody tr th:only-of-type {\n",
       "        vertical-align: middle;\n",
       "    }\n",
       "\n",
       "    .dataframe tbody tr th {\n",
       "        vertical-align: top;\n",
       "    }\n",
       "\n",
       "    .dataframe thead th {\n",
       "        text-align: right;\n",
       "    }\n",
       "</style>\n",
       "<table border=\"1\" class=\"dataframe\">\n",
       "  <thead>\n",
       "    <tr style=\"text-align: right;\">\n",
       "      <th></th>\n",
       "      <th>price</th>\n",
       "      <th>daily_difference</th>\n",
       "      <th>signal</th>\n",
       "      <th>positions</th>\n",
       "    </tr>\n",
       "    <tr>\n",
       "      <th>Date</th>\n",
       "      <th></th>\n",
       "      <th></th>\n",
       "      <th></th>\n",
       "      <th></th>\n",
       "    </tr>\n",
       "  </thead>\n",
       "  <tbody>\n",
       "    <tr>\n",
       "      <th>2013-12-31</th>\n",
       "      <td>558.262512</td>\n",
       "      <td>NaN</td>\n",
       "      <td>0</td>\n",
       "      <td>NaN</td>\n",
       "    </tr>\n",
       "    <tr>\n",
       "      <th>2014-01-02</th>\n",
       "      <td>554.481689</td>\n",
       "      <td>-3.780823</td>\n",
       "      <td>0</td>\n",
       "      <td>0.0</td>\n",
       "    </tr>\n",
       "    <tr>\n",
       "      <th>2014-01-03</th>\n",
       "      <td>550.436829</td>\n",
       "      <td>-4.044861</td>\n",
       "      <td>0</td>\n",
       "      <td>0.0</td>\n",
       "    </tr>\n",
       "    <tr>\n",
       "      <th>2014-01-06</th>\n",
       "      <td>556.573853</td>\n",
       "      <td>6.137024</td>\n",
       "      <td>1</td>\n",
       "      <td>1.0</td>\n",
       "    </tr>\n",
       "    <tr>\n",
       "      <th>2014-01-07</th>\n",
       "      <td>567.303589</td>\n",
       "      <td>10.729736</td>\n",
       "      <td>1</td>\n",
       "      <td>0.0</td>\n",
       "    </tr>\n",
       "    <tr>\n",
       "      <th>2014-01-08</th>\n",
       "      <td>568.484192</td>\n",
       "      <td>1.180603</td>\n",
       "      <td>1</td>\n",
       "      <td>0.0</td>\n",
       "    </tr>\n",
       "    <tr>\n",
       "      <th>2014-01-09</th>\n",
       "      <td>563.009705</td>\n",
       "      <td>-5.474487</td>\n",
       "      <td>0</td>\n",
       "      <td>-1.0</td>\n",
       "    </tr>\n",
       "    <tr>\n",
       "      <th>2014-01-10</th>\n",
       "      <td>562.979797</td>\n",
       "      <td>-0.029907</td>\n",
       "      <td>0</td>\n",
       "      <td>0.0</td>\n",
       "    </tr>\n",
       "    <tr>\n",
       "      <th>2014-01-13</th>\n",
       "      <td>559.393250</td>\n",
       "      <td>-3.586548</td>\n",
       "      <td>0</td>\n",
       "      <td>0.0</td>\n",
       "    </tr>\n",
       "    <tr>\n",
       "      <th>2014-01-14</th>\n",
       "      <td>572.553955</td>\n",
       "      <td>13.160706</td>\n",
       "      <td>1</td>\n",
       "      <td>1.0</td>\n",
       "    </tr>\n",
       "  </tbody>\n",
       "</table>\n",
       "</div>"
      ],
      "text/plain": [
       "                 price  daily_difference  signal  positions\n",
       "Date                                                       \n",
       "2013-12-31  558.262512               NaN       0        NaN\n",
       "2014-01-02  554.481689         -3.780823       0        0.0\n",
       "2014-01-03  550.436829         -4.044861       0        0.0\n",
       "2014-01-06  556.573853          6.137024       1        1.0\n",
       "2014-01-07  567.303589         10.729736       1        0.0\n",
       "2014-01-08  568.484192          1.180603       1        0.0\n",
       "2014-01-09  563.009705         -5.474487       0       -1.0\n",
       "2014-01-10  562.979797         -0.029907       0        0.0\n",
       "2014-01-13  559.393250         -3.586548       0        0.0\n",
       "2014-01-14  572.553955         13.160706       1        1.0"
      ]
     },
     "execution_count": 19,
     "metadata": {},
     "output_type": "execute_result"
    }
   ],
   "source": [
    "goog_data_signal['positions'] = goog_data_signal['signal'].diff()\n",
    "goog_data_signal.head(10)"
   ]
  },
  {
   "cell_type": "markdown",
   "id": "01b9d69d",
   "metadata": {},
   "source": [
    "## Signal Visualization\n",
    "\n",
    "While creating signals is just the beginning of the process of building a trading strategy, we need to visualize how the strategy performs in the long term. We will plot the graph of the historical data we used by using the matplotlib library."
   ]
  },
  {
   "cell_type": "code",
   "execution_count": 22,
   "id": "6263a8c1",
   "metadata": {},
   "outputs": [],
   "source": [
    "import matplotlib.pyplot as plt"
   ]
  },
  {
   "cell_type": "code",
   "execution_count": 26,
   "id": "60da68fb",
   "metadata": {},
   "outputs": [
    {
     "data": {
      "image/png": "[encoded data removed]",
      "text/plain": [
       "<Figure size 432x288 with 1 Axes>"
      ]
     },
     "metadata": {
      "needs_background": "light"
     },
     "output_type": "display_data"
    }
   ],
   "source": [
    "fig = plt.figure()\n",
    "ax1 = fig.add_subplot(111,ylabel='Google Price in $')\n",
    "goog_data_signal['price'].plot(ax=ax1,color='r',lw=2)\n",
    "ax1.plot(goog_data_signal.loc[goog_data_signal.positions == 1].index, goog_data_signal.price[goog_data_signal.positions == 1],'^',markersize=5,color='k')\n",
    "ax1.plot(goog_data_signal.loc[goog_data_signal.positions == -1].index, goog_data_signal.price[goog_data_signal.positions == -1],'v',markersize=5,color='k')\n",
    "plt.show()"
   ]
  },
  {
   "cell_type": "markdown",
   "id": "9391f2c1",
   "metadata": {},
   "source": [
    "## Backtesting\n",
    "Backtesting is a key phase to get statistics showing how effective the trading strategy is. As we previously learned, the backtesting relies on the assumption that the past predicts the future\n",
    "\n",
    "\n",
    "Important terms for backtesting:\n",
    "\n",
    "1. **Profit and loss (P and L):** The money made by the strategy without transaction fees.\n",
    "2. **Net profit and loss (net P and L):** The money made by the strategy with transaction fees.\n",
    "3. **Exposure:** The capital invested.\n",
    "4. **Number of trades:** The number of trades placed during a trading session.\n",
    "5. **Annualized return:** This is the return for a year of trading.\n",
    "6. **Sharpe ratio:** The risk-adjusted return. This data is important because it compares the return of the strategy with a risk-free strategy"
   ]
  },
  {
   "cell_type": "markdown",
   "id": "bd3198b9",
   "metadata": {},
   "source": [
    "For the purpose of backtesting, we will have a portfolio (grouping of financial assets such as bonds and stocks) composed of only one type of stock: Google (GOOG). We will start this portfolio with $1,000"
   ]
  },
  {
   "cell_type": "code",
   "execution_count": 44,
   "id": "8b35dede",
   "metadata": {},
   "outputs": [],
   "source": [
    "initial_capital = float(1000.0)"
   ]
  },
  {
   "cell_type": "markdown",
   "id": "b4941a33",
   "metadata": {},
   "source": [
    "Now, we will create a data frame for the positions and the portfolio:"
   ]
  },
  {
   "cell_type": "code",
   "execution_count": 45,
   "id": "d0c3a10d",
   "metadata": {},
   "outputs": [],
   "source": [
    "positions = pd.DataFrame(index=goog_data_signal.index).fillna(0.0)\n",
    "portfolio = pd.DataFrame(index=goog_data_signal.index).fillna(0.0)"
   ]
  },
  {
   "cell_type": "markdown",
   "id": "bcdc0e73",
   "metadata": {},
   "source": [
    "Next, we will store the GOOG positions in the following data frame:"
   ]
  },
  {
   "cell_type": "code",
   "execution_count": 46,
   "id": "60ac71f4",
   "metadata": {},
   "outputs": [],
   "source": [
    "positions['GOOG'] = goog_data_signal['signal']"
   ]
  },
  {
   "cell_type": "markdown",
   "id": "c4f568ab",
   "metadata": {},
   "source": [
    "Then, we will store the amount of the GOOG positions for the portfolio in this one:"
   ]
  },
  {
   "cell_type": "code",
   "execution_count": 47,
   "id": "459805a1",
   "metadata": {},
   "outputs": [],
   "source": [
    "portfolio['positions'] = (positions.multiply(goog_data_signal['price'],axis=0))"
   ]
  },
  {
   "cell_type": "markdown",
   "id": "307fc1af",
   "metadata": {},
   "source": [
    "Next, we will calculate the non-invested money (cash):"
   ]
  },
  {
   "cell_type": "code",
   "execution_count": 48,
   "id": "b597dbbb",
   "metadata": {},
   "outputs": [],
   "source": [
    "portfolio['cash'] = initial_capital - (positions.diff().multiply(goog_data_signal['price'], axis=0)).cumsum()"
   ]
  },
  {
   "cell_type": "markdown",
   "id": "0781a9d1",
   "metadata": {},
   "source": [
    "The total investment will be calculated by summing the positions and the cash"
   ]
  },
  {
   "cell_type": "code",
   "execution_count": 49,
   "id": "c3c20192",
   "metadata": {},
   "outputs": [],
   "source": [
    "portfolio['total'] = portfolio['positions'] + portfolio['cash']"
   ]
  },
  {
   "cell_type": "code",
   "execution_count": 50,
   "id": "98467c3d",
   "metadata": {},
   "outputs": [
    {
     "data": {
      "text/html": [
       "<div>\n",
       "<style scoped>\n",
       "    .dataframe tbody tr th:only-of-type {\n",
       "        vertical-align: middle;\n",
       "    }\n",
       "\n",
       "    .dataframe tbody tr th {\n",
       "        vertical-align: top;\n",
       "    }\n",
       "\n",
       "    .dataframe thead th {\n",
       "        text-align: right;\n",
       "    }\n",
       "</style>\n",
       "<table border=\"1\" class=\"dataframe\">\n",
       "  <thead>\n",
       "    <tr style=\"text-align: right;\">\n",
       "      <th></th>\n",
       "      <th>positions</th>\n",
       "      <th>cash</th>\n",
       "      <th>total</th>\n",
       "    </tr>\n",
       "    <tr>\n",
       "      <th>Date</th>\n",
       "      <th></th>\n",
       "      <th></th>\n",
       "      <th></th>\n",
       "    </tr>\n",
       "  </thead>\n",
       "  <tbody>\n",
       "    <tr>\n",
       "      <th>2013-12-31</th>\n",
       "      <td>0.000000</td>\n",
       "      <td>NaN</td>\n",
       "      <td>NaN</td>\n",
       "    </tr>\n",
       "    <tr>\n",
       "      <th>2014-01-02</th>\n",
       "      <td>0.000000</td>\n",
       "      <td>1000.000000</td>\n",
       "      <td>1000.000000</td>\n",
       "    </tr>\n",
       "    <tr>\n",
       "      <th>2014-01-03</th>\n",
       "      <td>0.000000</td>\n",
       "      <td>1000.000000</td>\n",
       "      <td>1000.000000</td>\n",
       "    </tr>\n",
       "    <tr>\n",
       "      <th>2014-01-06</th>\n",
       "      <td>556.573853</td>\n",
       "      <td>443.426147</td>\n",
       "      <td>1000.000000</td>\n",
       "    </tr>\n",
       "    <tr>\n",
       "      <th>2014-01-07</th>\n",
       "      <td>567.303589</td>\n",
       "      <td>443.426147</td>\n",
       "      <td>1010.729736</td>\n",
       "    </tr>\n",
       "    <tr>\n",
       "      <th>...</th>\n",
       "      <td>...</td>\n",
       "      <td>...</td>\n",
       "      <td>...</td>\n",
       "    </tr>\n",
       "    <tr>\n",
       "      <th>2017-12-22</th>\n",
       "      <td>0.000000</td>\n",
       "      <td>1253.277466</td>\n",
       "      <td>1253.277466</td>\n",
       "    </tr>\n",
       "    <tr>\n",
       "      <th>2017-12-26</th>\n",
       "      <td>0.000000</td>\n",
       "      <td>1253.277466</td>\n",
       "      <td>1253.277466</td>\n",
       "    </tr>\n",
       "    <tr>\n",
       "      <th>2017-12-27</th>\n",
       "      <td>0.000000</td>\n",
       "      <td>1253.277466</td>\n",
       "      <td>1253.277466</td>\n",
       "    </tr>\n",
       "    <tr>\n",
       "      <th>2017-12-28</th>\n",
       "      <td>0.000000</td>\n",
       "      <td>1253.277466</td>\n",
       "      <td>1253.277466</td>\n",
       "    </tr>\n",
       "    <tr>\n",
       "      <th>2017-12-29</th>\n",
       "      <td>0.000000</td>\n",
       "      <td>1253.277466</td>\n",
       "      <td>1253.277466</td>\n",
       "    </tr>\n",
       "  </tbody>\n",
       "</table>\n",
       "<p>1008 rows × 3 columns</p>\n",
       "</div>"
      ],
      "text/plain": [
       "             positions         cash        total\n",
       "Date                                            \n",
       "2013-12-31    0.000000          NaN          NaN\n",
       "2014-01-02    0.000000  1000.000000  1000.000000\n",
       "2014-01-03    0.000000  1000.000000  1000.000000\n",
       "2014-01-06  556.573853   443.426147  1000.000000\n",
       "2014-01-07  567.303589   443.426147  1010.729736\n",
       "...                ...          ...          ...\n",
       "2017-12-22    0.000000  1253.277466  1253.277466\n",
       "2017-12-26    0.000000  1253.277466  1253.277466\n",
       "2017-12-27    0.000000  1253.277466  1253.277466\n",
       "2017-12-28    0.000000  1253.277466  1253.277466\n",
       "2017-12-29    0.000000  1253.277466  1253.277466\n",
       "\n",
       "[1008 rows x 3 columns]"
      ]
     },
     "execution_count": 50,
     "metadata": {},
     "output_type": "execute_result"
    }
   ],
   "source": [
    "portfolio"
   ]
  },
  {
   "cell_type": "code",
   "execution_count": null,
   "id": "1a3b5833",
   "metadata": {},
   "outputs": [],
   "source": []
  }
 ],
 "metadata": {
  "kernelspec": {
   "display_name": "Python 3",
   "language": "python",
   "name": "python3"
  },
  "language_info": {
   "codemirror_mode": {
    "name": "ipython",
    "version": 3
   },
   "file_extension": ".py",
   "mimetype": "text/x-python",
   "name": "python",
   "nbconvert_exporter": "python",
   "pygments_lexer": "ipython3",
   "version": "3.9.5"
  }
 },
 "nbformat": 4,
 "nbformat_minor": 5
}
