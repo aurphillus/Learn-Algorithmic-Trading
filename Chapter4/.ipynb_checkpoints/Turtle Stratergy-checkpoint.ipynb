{
 "cells": [
  {
   "cell_type": "code",
   "execution_count": 1,
   "id": "f5a11ab2",
   "metadata": {},
   "outputs": [],
   "source": [
    "import pandas as pd\n",
    "import numpy as np\n",
    "from pandas_datareader import data\n",
    "import matplotlib.pyplot as plt\n",
    "pd.set_option('max_rows',10000)"
   ]
  },
  {
   "cell_type": "code",
   "execution_count": 6,
   "id": "6b7059b5",
   "metadata": {},
   "outputs": [],
   "source": [
    "def load_financial_data(start_date, end_date,output_file):\n",
    "    try:\n",
    "        df = pd.read_pickle(output_file)\n",
    "        print('File data found...reading GOOG data')\n",
    "    except FileNotFoundError:\n",
    "        print('File not found...downloading the GOOG data')\n",
    "        df = data.DataReader('GOOG', 'yahoo', start_date,end_date)\n",
    "        df.to_pickle(output_file)\n",
    "    return df"
   ]
  },
  {
   "cell_type": "code",
   "execution_count": 7,
   "id": "4f4e6ad6",
   "metadata": {},
   "outputs": [
    {
     "name": "stdout",
     "output_type": "stream",
     "text": [
      "File data found...reading GOOG data\n"
     ]
    }
   ],
   "source": [
    "goog_data=load_financial_data(start_date='2001-01-01',\n",
    " end_date = '2018-01-01',\n",
    " output_file='goog_data_large.pkl')"
   ]
  },
  {
   "cell_type": "markdown",
   "id": "6397a085",
   "metadata": {},
   "source": [
    "we are going to create a long signal when the price reaches the highest price for the last window_size days."
   ]
  },
  {
   "cell_type": "markdown",
   "id": "d0c6dcfc",
   "metadata": {},
   "source": [
    "1. We will create a short signal when the price reaches its lowest point. We will get out of a position by having the price crossing the moving average of the last window_size days. \n",
    "    This code starts the `turtle_trading` function by creating a column to store the highs, the lows, and the average with a rolling window `window_size`\n",
    "    \n",
    "\n",
    "2.  We will write the code that creates two new columns specifying the rules to place an order:\n",
    "\n",
    "    a. The entry rule is stock price > the highest value for the window_size day.\n",
    "\n",
    "    b. Stock price < the lowest value for the window_size day.\n",
    "\n",
    "\n",
    "3.  The exit rule (when placing an order to get out of a position) will be when the stock price crosses the mean of past window_size days\n",
    "\n",
    "\n",
    "4. we will give the values 1 when we enter a long position, -1 when we enter a short position, and 0 for not changing anything"
   ]
  },
  {
   "cell_type": "code",
   "execution_count": 19,
   "id": "303a11d9",
   "metadata": {},
   "outputs": [],
   "source": [
    "def turtle_trading(financial_data, window_size):\n",
    "    \n",
    "    signals = pd.DataFrame(index=financial_data.index)\n",
    "    signals[\"orders\"] = 0\n",
    "    \n",
    "    #window_size-days high\n",
    "    signals['high'] = financial_data['Adj Close'].shift(1).rolling(window=window_size).max()\n",
    "    \n",
    "    #window_size-days low\n",
    "    signals['low'] = financial_data['Adj Close'].shift(1).rolling(window=window_size).min()\n",
    "    \n",
    "    #window_size-days mean\n",
    "    signals['avg'] = financial_data['Adj Close'].shift(1).rolling(window=window_size).mean()\n",
    "    \n",
    "    #Entry Positions\n",
    "    signals['long_entry'] = financial_data['Adj Close'] > signals.high\n",
    "    signals['short_entry'] = financial_data['Adj Close'] < signals.low\n",
    "    \n",
    "    #Exit Positions\n",
    "    signals['long_exit'] = financial_data['Adj Close'] < signals.avg\n",
    "    signals['short_exit'] = financial_data['Adj Close'] > signals.avg    \n",
    "    \n",
    "    \n",
    "    init = True\n",
    "    position = 0\n",
    "    \n",
    "    for k in range(len(signals)):\n",
    "        if signals['long_entry'][k] and position == 0:\n",
    "            signals.orders.values[k] = 1\n",
    "            position = 1\n",
    "        elif signals['short_entry'][k] and position ==0:\n",
    "            signals.orders.values[k] = -1\n",
    "            position = -1\n",
    "        elif signals['short_exit'][k] and position > 0:\n",
    "            signals.orders.values[k] = -1\n",
    "            position = 0\n",
    "        elif signals['long_exit'][k] and position < 0:\n",
    "            signals.orders.values[k] = 11\n",
    "            position = 0\n",
    "        else:\n",
    "            signals.orders.values[k]=0\n",
    "    return signals\n",
    "        "
   ]
  },
  {
   "cell_type": "code",
   "execution_count": 20,
   "id": "15934578",
   "metadata": {},
   "outputs": [],
   "source": [
    "ts = turtle_trading(goog_data,50)"
   ]
  },
  {
   "cell_type": "code",
   "execution_count": 21,
   "id": "de6b7e42",
   "metadata": {},
   "outputs": [
    {
     "name": "stderr",
     "output_type": "stream",
     "text": [
      "<ipython-input-21-89713e69b549>:1: FutureWarning: Indexing a DataFrame with a datetimelike index using a single string to slice the rows, like `frame[string]`, is deprecated and will be removed in a future version. Use `frame.loc[string]` instead.\n",
      "  d1 = ts[\"2010\"]\n",
      "<ipython-input-21-89713e69b549>:2: FutureWarning: Indexing a DataFrame with a datetimelike index using a single string to slice the rows, like `frame[string]`, is deprecated and will be removed in a future version. Use `frame.loc[string]` instead.\n",
      "  d2 = goog_data[\"2010\"]\n"
     ]
    }
   ],
   "source": [
    "d1 = ts[\"2010\"]\n",
    "d2 = goog_data[\"2010\"]"
   ]
  },
  {
   "cell_type": "code",
   "execution_count": 22,
   "id": "3412696b",
   "metadata": {},
   "outputs": [
    {
     "data": {
      "image/png": "[encoded data removed]",
      "text/plain": [
       "<Figure size 432x288 with 1 Axes>"
      ]
     },
     "metadata": {
      "needs_background": "light"
     },
     "output_type": "display_data"
    }
   ],
   "source": [
    "fig = plt.figure()\n",
    "ax1 = fig.add_subplot(111, ylabel='Google price in $')\n",
    "d2[\"Adj Close\"].plot(ax=ax1, color='g', lw=.5)\n",
    "ax1.plot(d1.loc[d1.orders== 1.0].index,\n",
    "d2[\"Adj Close\"][d1.orders == 1],\n",
    "'^', markersize=7, color='k')\n",
    "ax1.plot(d1.loc[d1.orders== -1.0].index,\n",
    "d2[\"Adj Close\"][d1.orders == -1],\n",
    "'v', markersize=7, color='k')\n",
    "plt.legend([\"Price\",\"Buy\",\"Sell\"])\n",
    "plt.title(\"Turtle Trading Strategy\")\n",
    "plt.show()\n"
   ]
  },
  {
   "cell_type": "code",
   "execution_count": null,
   "id": "9108fa6d",
   "metadata": {},
   "outputs": [],
   "source": []
  }
 ],
 "metadata": {
  "kernelspec": {
   "display_name": "Python 3",
   "language": "python",
   "name": "python3"
  },
  "language_info": {
   "codemirror_mode": {
    "name": "ipython",
    "version": 3
   },
   "file_extension": ".py",
   "mimetype": "text/x-python",
   "name": "python",
   "nbconvert_exporter": "python",
   "pygments_lexer": "ipython3",
   "version": "3.9.5"
  }
 },
 "nbformat": 4,
 "nbformat_minor": 5
}
